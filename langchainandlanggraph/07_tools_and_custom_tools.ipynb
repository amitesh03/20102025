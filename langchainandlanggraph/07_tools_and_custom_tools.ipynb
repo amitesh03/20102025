{
 "cells": [
  {
   "cell_type": "markdown",
   "metadata": {},
   "source": "# Tool Integration and Custom Tools - Interactive Notebook\n\nThis notebook provides hands-on examples to accompany the tools lesson:\n- Design and implement custom tools\n- Validate inputs with Pydantic and StructuredTool\n- Integrate external APIs and local resources\n- Implement async tools for concurrency\n- Add retries, timeouts, and observability\n- Compose tools in OpenAI tool-calling agents\n\nEnsure your `.env` contains required API keys (e.g., OPENAI_API_KEY, NEWSAPI_KEY)."
  },
  {
   "cell_type": "markdown",
   "metadata": {},
   "source": "## 0) Setup and Imports"
  },
  {
   "cell_type": "code",
   "metadata": {},
   "execution_count": null,
   "outputs": [],
   "source": "import os\nimport time\nimport json\nfrom typing import Optional, Dict, Any, List\n\nfrom dotenv import load_dotenv\nload_dotenv()\n\n# LangChain core\nfrom langchain_core.tools import tool, StructuredTool\nfrom langchain_core.prompts import ChatPromptTemplate\n\n# LLM and agent utilities\nfrom langchain_openai import ChatOpenAI\n\n# Agent constructors (version-dependent)\nagents_available = True\ntry:\n    from langchain.agents import create_openai_tools_agent, AgentExecutor\nexcept Exception as e:\n    print(\"Agent constructors not available from langchain.agents in this version.\")\n    print(\"Error:\", e)\n    agents_available = False\n\nprint(\"Setup complete.\")"
  },
  {
   "cell_type": "markdown",
   "metadata": {},
   "source": "## 1) Quick Function Tools with @tool"
  },
  {
   "cell_type": "code",
   "metadata": {},
   "execution_count": null,
   "outputs": [],
   "source": "from math import isfinite\n\n@tool\ndef calculator(expression: str) -> str:\n    \"\"\"Evaluate a basic arithmetic expression like '2 + 3 * 4'.\"\"\"\n    try:\n        # WARNING: eval is unsafe for untrusted input. Use a proper expression parser in production.\n        result = eval(expression, {\"__builtins__\": {}}, {})\n        if isinstance(result, (int, float)) and isfinite(result):\n            return str(result)\n        return \"calc-error: non-finite result\"\n    except Exception as e:\n        return f\"calc-error: {e}\"\n\nprint(\"calculator tool ready.\")\nprint(\"calculator 2+2 =>\", calculator.func(\"2+2\"))"
  },
  {
   "cell_type": "markdown",
   "metadata": {},
   "source": "## 2) Typed Tools with Pydantic Validation (StructuredTool)"
  },
  {
   "cell_type": "code",
   "metadata": {},
   "execution_count": null,
   "outputs": [],
   "source": "from pydantic import BaseModel, Field\n\nclass WeatherInput(BaseModel):\n    city: str = Field(..., description=\"City name, e.g., 'London'\")\n    units: str = Field(\"metric\", description=\"'metric' or 'imperial'\")\n\n# Mock implementation; replace with a real API call as needed\ndef fetch_weather(city: str, units: str = \"metric\") -> dict:\n    if not city or len(city) < 2:\n        raise ValueError(\"city too short\")\n    # Return small typed payload; agent composes prose\n    return {\"city\": city, \"units\": units, \"temp\": 24.0}\n\nweather_tool = StructuredTool.from_function(\n    func=fetch_weather,\n    name=\"weather\",\n    description=\"Get current weather for a city.\",\n    args_schema=WeatherInput\n)\n\nprint(\"weather tool ready.\")\nprint(weather_tool.invoke({\"city\": \"London\", \"units\": \"metric\"}))"
  },
  {
   "cell_type": "markdown",
   "metadata": {},
   "source": "## 3) External API Tool (NewsAPI.org) with Requests and Validation"
  },
  {
   "cell_type": "code",
   "metadata": {},
   "execution_count": null,
   "outputs": [],
   "source": "import requests\n\nclass NewsInput(BaseModel):\n    query: str = Field(..., description=\"Topic to search\")\n    max_results: int = Field(3, ge=1, le=10)\n\ndef search_news(query: str, max_results: int = 3) -> List[dict]:\n    api_key = os.getenv(\"NEWSAPI_KEY\")\n    if not api_key:\n        return [{\"error\": \"missing NEWSAPI_KEY\"}]\n    url = \"https://newsapi.org/v2/everything\"\n    params = {\"q\": query, \"pageSize\": max_results, \"sortBy\": \"relevancy\", \"apiKey\": api_key}\n    try:\n        r = requests.get(url, params=params, timeout=10)\n        r.raise_for_status()\n        data = r.json()\n        articles = data.get(\"articles\", [])[:max_results]\n        return [{\"title\": a.get(\"title\", \"\"), \"url\": a.get(\"url\", \"\")} for a in articles]\n    except Exception as e:\n        return [{\"error\": str(e)}]\n\nnews_tool = StructuredTool.from_function(\n    func=search_news,\n    name=\"news_search\",\n    description=\"Search recent news via NewsAPI.org\",\n    args_schema=NewsInput\n)\n\nprint(\"news_search tool ready.\")\nprint(news_tool.invoke({\"query\": \"AI\", \"max_results\": 2}))"
  },
  {
   "cell_type": "markdown",
   "metadata": {},
   "source": "## 4) Local Resource Tool (Safe File Reader)"
  },
  {
   "cell_type": "code",
   "metadata": {},
   "execution_count": null,
   "outputs": [],
   "source": "from pathlib import Path\n\n@tool\ndef read_local_file(path: str, max_bytes: int = 4000) -> str:\n    \"\"\"Read a small local text file; caps bytes to prevent large loads.\"\"\"\n    p = Path(path)\n    if not p.exists() or not p.is_file():\n        return \"read-error: file not found\"\n    data = p.read_bytes()[:max_bytes]\n    try:\n        return data.decode(\"utf-8\", errors=\"replace\")\n    except Exception:\n        return \"read-error: decode failure\"\n\n# Create a sample file for demo\nPath(\"./notes\").mkdir(exist_ok=True)\nPath(\"./notes/sample.txt\").write_text(\"Vector memory helps recall facts via embeddings.\")\nprint(read_local_file.func(\"./notes/sample.txt\"))"
  },
  {
   "cell_type": "markdown",
   "metadata": {},
   "source": "## 5) Async Tool (aiohttp) for Concurrency"
  },
  {
   "cell_type": "code",
   "metadata": {},
   "execution_count": null,
   "outputs": [],
   "source": "import asyncio\ntry:\n    import aiohttp\n    aio_available = True\nexcept Exception as e:\n    print(\"aiohttp not available:\", e)\n    aio_available = False\n\nclass HttpGetInput(BaseModel):\n    url: str = Field(..., description=\"HTTP/HTTPS URL\")\n\nasync def http_get_async(url: str) -> dict:\n    timeout = aiohttp.ClientTimeout(total=10)\n    async with aiohttp.ClientSession(timeout=timeout) as session:\n        try:\n            async with session.get(url) as resp:\n                text = await resp.text()\n                return {\"status\": resp.status, \"length\": len(text)}\n        except Exception as e:\n            return {\"error\": str(e)}\n\nif aio_available:\n    http_get_tool = StructuredTool.from_function(\n        func=http_get_async,\n        name=\"http_get\",\n        description=\"Fetch a URL asynchronously and return status and length\",\n        args_schema=HttpGetInput,\n        coroutine=http_get_async\n    )\n    print(\"http_get tool ready.\")\n    # Run a quick async demo\n    async def _demo():\n        return await http_get_async(\"https://example.com\")\n    print(\"async demo:\", asyncio.run(_demo()))\nelse:\n    print(\"Skipping async tool demo; aiohttp unavailable.\")"
  },
  {
   "cell_type": "markdown",
   "metadata": {},
   "source": "## 6) Retries, Backoff, and Timeouts (Decorator)"
  },
  {
   "cell_type": "code",
   "metadata": {},
   "execution_count": null,
   "outputs": [],
   "source": "from functools import wraps\n\ndef with_retry(retries=3, backoff=0.5):\n    def deco(fn):\n        @wraps(fn)\n        def wrapper(*args, **kwargs):\n            last = None\n            for i in range(retries):\n                try:\n                    return fn(*args, **kwargs)\n                except Exception as e:\n                    last = e\n                    time.sleep(backoff * (2**i))\n            return f\"retry-error: {last}\"\n        return wrapper\n    return deco\n\n@tool\n@with_retry(retries=2, backoff=0.2)\ndef fragile_operation(x: int) -> str:\n    \"\"\"Sometimes fails; returns x squared on success.\"\"\"\n    if x % 2:\n        raise RuntimeError(\"simulated intermittent error\")\n    return str(x * x)\n\nprint(\"fragile_operation tool ready.\")\nprint(\"fragile_operation(2) =>\", fragile_operation.func(2))\nprint(\"fragile_operation(3) =>\", fragile_operation.func(3))"
  },
  {
   "cell_type": "markdown",
   "metadata": {},
   "source": "## 7) Compose Tools in OpenAI Tool-Calling Agent"
  },
  {
   "cell_type": "code",
   "metadata": {},
   "execution_count": null,
   "outputs": [],
   "source": "llm = None\ntry:\n    llm = ChatOpenAI(model=\"gpt-3.5-turbo\", temperature=0)\nexcept Exception as e:\n    print(\"ChatOpenAI unavailable (check OPENAI_API_KEY):\", e)\n\ntools_for_agent = [calculator, weather_tool, news_tool, read_local_file]\nagent_prompt = ChatPromptTemplate.from_messages([\n    (\"system\", \"You are a precise assistant. Prefer tools when helpful.\"),\n    (\"human\", \"{input}\")\n])\n\nif agents_available and llm is not None:\n    try:\n        agent = create_openai_tools_agent(llm, tools_for_agent, agent_prompt)\n        executor = AgentExecutor(agent=agent, tools=tools_for_agent, verbose=True)\n        out = executor.invoke({\"input\": \"What's 17*19, then fetch 2 recent AI articles.\"})\n        print(\"Agent output:\\n\", out.get(\"output\"))\n    except Exception as e:\n        print(\"OpenAI tools agent execution failed:\", e)\nelse:\n    print(\"Tool-calling agent path not available in this environment.\")"
  },
  {
   "cell_type": "markdown",
   "metadata": {},
   "source": "## 8) Observability: Log Tool Calls and Durations"
  },
  {
   "cell_type": "code",
   "metadata": {},
   "execution_count": null,
   "outputs": [],
   "source": "def log_tool_call(fn):\n    def wrapper(*args, **kwargs):\n        t0 = time.time()\n        res = fn(*args, **kwargs)\n        dt = (time.time() - t0) * 1000\n        print(f\"[tool] {fn.__name__} took {dt:.1f} ms\")\n        return res\n    return wrapper\n\ncalculator_logged = log_tool_call(calculator.func)\nprint(\"calculator 2+2:\", calculator_logged(\"2+2\"))"
  },
  {
   "cell_type": "markdown",
   "metadata": {},
   "source": "## 9) Exercises (Scaffolds)"
  },
  {
   "cell_type": "markdown",
   "metadata": {},
   "source": "A) Unit Converter Tool\n- Implement unit_convert(value: float, from_unit: str, to_unit: str) with km<->miles, C<->F\n- Compose with calculator; agent decides which to use"
  },
  {
   "cell_type": "code",
   "metadata": {},
   "execution_count": null,
   "outputs": [],
   "source": "from dataclasses import dataclass\n\n@tool\ndef unit_convert(value: float, from_unit: str, to_unit: str) -> str:\n    \"\"\"Convert simple units: supports miles<->km and C<->F (case-insensitive).\"\"\"\n    conv = {\n        (\"miles\", \"km\"): 1.60934,\n        (\"km\", \"miles\"): 1/1.60934,\n    }\n    try:\n        fu, tu = from_unit.strip().lower(), to_unit.strip().lower()\n        if (fu, tu) in conv:\n            return str(value * conv[(fu, tu)])\n        # Celsius <-> Fahrenheit\n        if fu == \"c\" and tu == \"f\":\n            return str((value * 9/5) + 32)\n        if fu == \"f\" and tu == \"c\":\n            return str((value - 32) * 5/9)\n        return \"convert-error: unsupported units\"\n    except Exception as e:\n        return f\"convert-error: {e}\"\n\nprint(\"unit_convert tool ready.\")\nprint(\"150 miles -> km:\", unit_convert.func(150, \"miles\", \"km\"))"
  },
  {
   "cell_type": "markdown",
   "metadata": {},
   "source": "B) GitHub Repo Info Tool\n- Use GitHub API to fetch repo stars/forks for \"owner/repo\"; add timeout and retry (scaffold below)"
  },
  {
   "cell_type": "code",
   "metadata": {},
   "execution_count": null,
   "outputs": [],
   "source": "class RepoInput(BaseModel):\n    full_name: str = Field(..., description=\"Repository full name, e.g., 'owner/repo'\")\n\ndef fetch_repo(full_name: str) -> dict:\n    try:\n        owner, repo = full_name.split(\"/\")\n    except ValueError:\n        return {\"error\": \"invalid format; expected 'owner/repo'\"}\n    url = f\"https://api.github.com/repos/{owner}/{repo}\"\n    try:\n        r = requests.get(url, timeout=10)\n        r.raise_for_status()\n        data = r.json()\n        return {\"full_name\": data.get(\"full_name\"), \"stars\": data.get(\"stargazers_count\"), \"forks\": data.get(\"forks_count\")}\n    except Exception as e:\n        return {\"error\": str(e)}\n\nrepo_tool = StructuredTool.from_function(\n    func=fetch_repo,\n    name=\"repo_info\",\n    description=\"Fetch GitHub repo stars and forks.\",\n    args_schema=RepoInput\n)\n\nprint(repo_tool.invoke({\"full_name\": \"langchain-ai/langchain\"}))"
  },
  {
   "cell_type": "markdown",
   "metadata": {},
   "source": "C) Web Retriever Tool (Async)\n- Given a URL list, fetch titles and first 200 chars concurrently; summarize with LLM (scaffold only)"
  },
  {
   "cell_type": "markdown",
   "metadata": {},
   "source": "D) Safe File Reader\n- Restrict to ./notes; reject paths with '..' or absolute; test against path traversal attempts"
  },
  {
   "cell_type": "markdown",
   "metadata": {},
   "source": "E) Rate-Limited News Tool\n- Add simple per-minute counter; when exceeded, return a polite error"
  },
  {
   "cell_type": "markdown",
   "metadata": {},
   "source": "## Summary\nYou implemented function and structured tools, integrated external APIs and local resources, built async tools, added retries and observability, and composed tools inside an OpenAI tool-calling agent. Extend the scaffolds to complete the exercises and tailor tools for your applications."
  }
 ],
 "metadata": {
  "kernelspec": {
   "display_name": "Python 3",
   "language": "python",
   "name": "python3"
  },
  "language_info": {
   "codemirror_mode": {
    "name": "ipython",
    "version": 3
   },
   "file_extension": ".py",
   "mimetype": "text/x-python",
   "name": "python",
   "nbconvert_exporter": "python",
   "pygments_lexer": "ipython3",
   "version": "3.9.0"
  }
 },
 "nbformat": 4,
 "nbformat_minor": 4
}