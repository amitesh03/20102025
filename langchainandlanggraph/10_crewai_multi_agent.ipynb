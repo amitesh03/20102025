{
 "cells": [
  {
   "cell_type": "markdown",
   "metadata": {},
   "source": "# Multi‑Agent Systems with CrewAI - Interactive Notebook\n\nThis notebook provides runnable examples to accompany [`10_crewai_multi_agent.md`](10_crewai_multi_agent.md):\n- Define CrewAI agents (roles, goals, backstories)\n- Create tasks and assemble crews (sequential vs hierarchical)\n- Integrate web/tools and simple guardrails\n- Orchestrate multi‑agent research and reporting\n- Add retries/timeouts and basic observability\n\nEnsure your `.env` includes necessary keys, e.g. OPENAI_API_KEY and SERPER_API_KEY if using SerperDevTool."
  },
  {
   "cell_type": "markdown",
   "metadata": {},
   "source": "## 0) Setup and Imports"
  },
  {
   "cell_type": "code",
   "metadata": {},
   "execution_count": null,
   "outputs": [],
   "source": "import os\nfrom typing import Optional, Dict, Any\n\nfrom dotenv import load_dotenv\nload_dotenv()\n\ncrewai_available = True\ntools_available = True\ntry:\n    from crewai import Agent, Task, Crew, Process\nexcept Exception as e:\n    print(\"CrewAI not available:\", e)\n    crewai_available = False\n\ntry:\n    from crewai_tools import SerperDevTool, WebsiteSearchTool, ScrapeWebsiteTool\nexcept Exception as e:\n    print(\"crewai-tools not available:\", e)\n    tools_available = False\n\nprint(\"Environment ready.\")"
  },
  {
   "cell_type": "markdown",
   "metadata": {},
   "source": "## 1) Define Tools (optional, guarded)\nThese tools require API keys or internet access. We guard initialization so the notebook remains runnable without them."
  },
  {
   "cell_type": "code",
   "metadata": {},
   "execution_count": null,
   "outputs": [],
   "source": "web_search = None\nweb_scrape = None\nserper_search = None\n\nif tools_available:\n    try:\n        web_search = WebsiteSearchTool()\n    except Exception as e:\n        print(\"WebsiteSearchTool init error:\", e)\n    try:\n        web_scrape = ScrapeWebsiteTool()\n    except Exception as e:\n        print(\"ScrapeWebsiteTool init error:\", e)\n    try:\n        # Requires SERPER_API_KEY in .env\n        serper_search = SerperDevTool()\n    except Exception as e:\n        print(\"SerperDevTool init error:\", e)\n\nprint(\"Tools:\", {\n    \"web_search\": web_search is not None,\n    \"web_scrape\": web_scrape is not None,\n    \"serper_search\": serper_search is not None,\n})"
  },
  {
   "cell_type": "markdown",
   "metadata": {},
   "source": "## 2) Sequential Crew: Research → Analysis → Write\nThis example passes context through three agents with specific roles and concise outputs."
  },
  {
   "cell_type": "code",
   "metadata": {},
   "execution_count": null,
   "outputs": [],
   "source": "if crewai_available:\n    # Agents\n    researcher = Agent(\n        role=\"AI Researcher\",\n        goal=\"Discover accurate, up-to-date information about the topic.\",\n        backstory=\"Methodical, cites sources, avoids speculation.\",\n        allow_delegation=False,\n        verbose=True,\n        tools=[t for t in [serper_search, web_search, web_scrape] if t is not None]\n    )\n\n    analyst = Agent(\n        role=\"Analyst\",\n        goal=\"Synthesize research into concise, structured insights.\",\n        backstory=\"Transforms raw notes into executive-level takeaways.\",\n        allow_delegation=False,\n        verbose=True\n    )\n\n    writer = Agent(\n        role=\"Technical Writer\",\n        goal=\"Write a clear, well-structured report with references.\",\n        backstory=\"Senior writer focused on clarity and correctness.\",\n        allow_delegation=False,\n        verbose=True\n    )\n\n    # Tasks\n    t1 = Task(\n        description=(\n            \"Research the topic: '{topic}'. Identify 5 key facts, include source URLs, \"\n            \"and note any uncertainties.\"\n        ),\n        expected_output=(\n            \"A bulleted list of 5 facts with short citations (URL), plus a short 'uncertainties' note.\"\n        ),\n        agent=researcher\n    )\n\n    t2 = Task(\n        description=(\n            \"Analyze the research output and extract 3 key insights for decision-makers. Each insight one sentence.\"\n        ),\n        expected_output=\"3 bullet-point insights with one sentence each.\",\n        agent=analyst\n    )\n\n    t3 = Task(\n        description=(\n            \"Create a 300-500 word report synthesizing the insights. Add a brief references section citing the sources.\"\n        ),\n        expected_output=\"A markdown report with a References section.\",\n        agent=writer\n    )\n\n    crew = Crew(\n        agents=[researcher, analyst, writer],\n        tasks=[t1, t2, t3],\n        process=Process.SEQUENTIAL,\n        verbose=True\n    )\n\n    try:\n        result = crew.kickoff(inputs={\"topic\": \"LangGraph use-cases in production\"})\n        print(result)\n    except Exception as e:\n        print(\"Sequential crew run error:\", e)\nelse:\n    print(\"CrewAI unavailable; skipping sequential crew demo.\")"
  },
  {
   "cell_type": "markdown",
   "metadata": {},
   "source": "## 3) Hierarchical Crew: Manager + Workers\nA manager decomposes a high-level instruction into subtasks and delegates to workers."
  },
  {
   "cell_type": "code",
   "metadata": {},
   "execution_count": null,
   "outputs": [],
   "source": "if crewai_available:\n    manager = Agent(\n        role=\"Project Manager\",\n        goal=\"Decide plan, assign work, and ensure quality.\",\n        backstory=\"Experienced coordinator who creates subtasks for the team.\",\n        allow_delegation=True,\n        verbose=True\n    )\n\n    worker_researcher = Agent(\n        role=\"Research Specialist\",\n        goal=\"Find reliable information; cite sources succinctly.\",\n        backstory=\"Expert in using search and verification.\",\n        allow_delegation=False,\n        verbose=True\n    )\n\n    worker_writer = Agent(\n        role=\"Writer\",\n        goal=\"Produce a structured summary with references.\",\n        backstory=\"Strong editor and communicator.\",\n        allow_delegation=False,\n        verbose=True\n    )\n\n    master_task = Task(\n        description=(\n            \"Investigate '{topic}' and produce a 400-word executive summary with 5 bullet references.\"\n        ),\n        expected_output=\"A 400-word summary with 5 references (URLs).\",\n        agent=manager\n    )\n\n    h_crew = Crew(\n        agents=[manager, worker_researcher, worker_writer],\n        tasks=[master_task],\n        process=Process.HIERARCHICAL,\n        verbose=True\n    )\n\n    try:\n        res = h_crew.kickoff(inputs={\"topic\": \"RAG best practices 2025\"})\n        print(res)\n    except Exception as e:\n        print(\"Hierarchical crew run error:\", e)\nelse:\n    print(\"CrewAI unavailable; skipping hierarchical crew demo.\")"
  },
  {
   "cell_type": "markdown",
   "metadata": {},
   "source": "## 4) Guardrails: Simple Retry Wrapper for External Calls\nWrap tool callables or custom integrations with retry/backoff to improve robustness."
  },
  {
   "cell_type": "code",
   "metadata": {},
   "execution_count": null,
   "outputs": [],
   "source": "import time\nfrom functools import wraps\n\ndef with_retry(retries=3, backoff=0.5):\n    def deco(fn):\n        @wraps(fn)\n        def wrapper(*args, **kwargs):\n            last = None\n            for i in range(retries):\n                try:\n                    return fn(*args, **kwargs)\n                except Exception as e:\n                    last = e\n                    time.sleep(backoff * (2 ** i))\n            return f\"retry-error: {last}\"\n        return wrapper\n    return deco\n\n@with_retry(retries=2, backoff=0.25)\ndef fragile_fetch(url: str) -> str:\n    # Placeholder for a network call; simulate instability by raising intermittently in your tests\n    return f\"fetched: {url[:40]}...\"\n\nprint(fragile_fetch(\"https://example.com/long-article\"))"
  },
  {
   "cell_type": "markdown",
   "metadata": {},
   "source": "## 5) Minimal Observability for Tools\nAdd simple timing logs around tool functions to measure latency."
  },
  {
   "cell_type": "code",
   "metadata": {},
   "execution_count": null,
   "outputs": [],
   "source": "def log_tool(fn):\n    @wraps(fn)\n    def wrapper(*args, **kwargs):\n        t0 = time.time()\n        res = fn(*args, **kwargs)\n        dt = (time.time() - t0) * 1000\n        print(f\"[tool] {fn.__name__} took {dt:.1f} ms\")\n        return res\n    return wrapper\n\nlogged_fetch = log_tool(fragile_fetch)\nprint(logged_fetch(\"https://example.com\"))"
  },
  {
   "cell_type": "markdown",
   "metadata": {},
   "source": "## 6) Exercises (Scaffolds)\nImplement these to deepen your practice:"
  },
  {
   "cell_type": "markdown",
   "metadata": {},
   "source": "A) Research + Compare\n- Two researcher agents (Framework A and B) and one analyst to compare.\n- Output: a comparison table of 5 criteria with source URLs.\n- Constraint: each researcher must cite ≥3 unique sources."
  },
  {
   "cell_type": "markdown",
   "metadata": {},
   "source": "B) RAG‑Augmented Crew\n- Add a Retriever tool to answer domain‑specific questions before web search.\n- Analyst merges RAG context and web snippets into final insights."
  },
  {
   "cell_type": "markdown",
   "metadata": {},
   "source": "C) Hierarchical Orchestration\n- Manager creates subtasks for “market size”, “competitors”, “SWOT”.\n- Workers complete subtasks; manager compiles a 1‑page brief."
  },
  {
   "cell_type": "markdown",
   "metadata": {},
   "source": "D) Guardrails\n- URL whitelist + max page fetch count.\n- If more sources are needed, ask user to confirm (human‑in‑the‑loop)."
  },
  {
   "cell_type": "markdown",
   "metadata": {},
   "source": "E) Reference Validator\n- Post‑process links (status 200, domain whitelist). Replace failed links.\n- Add a QA agent that verifies references section integrity."
  },
  {
   "cell_type": "markdown",
   "metadata": {},
   "source": "## Summary\nYou built sequential and hierarchical crews, integrated tools with guardrails, and set up basic observability. Extend these patterns with domain‑specific tools (RAG, APIs) and stronger validation for production."
  }
 ],
 "metadata": {
  "kernelspec": {
   "display_name": "Python 3",
   "language": "python",
   "name": "python3"
  },
  "language_info": {
   "codemirror_mode": {
    "name": "ipython",
    "version": 3
   },
   "file_extension": ".py",
   "mimetype": "text/x-python",
   "name": "python",
   "nbconvert_exporter": "python",
   "pygments_lexer": "ipython3",
   "version": "3.9.0"
  }
 },
 "nbformat": 4,
 "nbformat_minor": 4
}